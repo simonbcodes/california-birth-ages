{
 "cells": [
  {
   "cell_type": "markdown",
   "metadata": {},
   "source": [
    "# California Births by Age of Mother (1960's to 2016)\n",
    "\n",
    "## Imports\n",
    "\n",
    "For this project, we'll need a variety of different modules:\n",
    " - pandas for DataFrames and reading/processing data\n",
    " - plotly for graphing the resultant data\n",
    " - colorlover for palettes to use with plotly"
   ]
  },
  {
   "cell_type": "code",
   "execution_count": 160,
   "metadata": {},
   "outputs": [
    {
     "data": {
      "text/html": [
       "<script>requirejs.config({paths: { 'plotly': ['https://cdn.plot.ly/plotly-latest.min']},});if(!window.Plotly) {{require(['plotly'],function(plotly) {window.Plotly=plotly;});}}</script>"
      ],
      "text/vnd.plotly.v1+html": [
       "<script>requirejs.config({paths: { 'plotly': ['https://cdn.plot.ly/plotly-latest.min']},});if(!window.Plotly) {{require(['plotly'],function(plotly) {window.Plotly=plotly;});}}</script>"
      ]
     },
     "metadata": {},
     "output_type": "display_data"
    }
   ],
   "source": [
    "import pandas as pd\n",
    "import plotly.plotly as py\n",
    "import plotly.graph_objs as go\n",
    "from plotly.offline import init_notebook_mode, iplot\n",
    "import colorlover as cl\n",
    "\n",
    "import warnings\n",
    "warnings.filterwarnings(\"always\")\n",
    "\n",
    "init_notebook_mode(connected=True)"
   ]
  },
  {
   "cell_type": "markdown",
   "metadata": {},
   "source": [
    "## Data Collection and Processing\n",
    "To retrieve our data, we use pandas to load a CSV from California's public data website:"
   ]
  },
  {
   "cell_type": "code",
   "execution_count": 51,
   "metadata": {},
   "outputs": [
    {
     "data": {
      "text/html": [
       "<div>\n",
       "<style scoped>\n",
       "    .dataframe tbody tr th:only-of-type {\n",
       "        vertical-align: middle;\n",
       "    }\n",
       "\n",
       "    .dataframe tbody tr th {\n",
       "        vertical-align: top;\n",
       "    }\n",
       "\n",
       "    .dataframe thead th {\n",
       "        text-align: right;\n",
       "    }\n",
       "</style>\n",
       "<table border=\"1\" class=\"dataframe\">\n",
       "  <thead>\n",
       "    <tr style=\"text-align: right;\">\n",
       "      <th></th>\n",
       "      <th>Year</th>\n",
       "      <th>AGE</th>\n",
       "      <th>Count</th>\n",
       "    </tr>\n",
       "  </thead>\n",
       "  <tbody>\n",
       "    <tr>\n",
       "      <th>0</th>\n",
       "      <td>1960</td>\n",
       "      <td>UNDER 15</td>\n",
       "      <td>443</td>\n",
       "    </tr>\n",
       "    <tr>\n",
       "      <th>1</th>\n",
       "      <td>1960</td>\n",
       "      <td>15-19</td>\n",
       "      <td>54010</td>\n",
       "    </tr>\n",
       "    <tr>\n",
       "      <th>2</th>\n",
       "      <td>1960</td>\n",
       "      <td>20-24</td>\n",
       "      <td>128313</td>\n",
       "    </tr>\n",
       "    <tr>\n",
       "      <th>3</th>\n",
       "      <td>1960</td>\n",
       "      <td>25-29</td>\n",
       "      <td>94704</td>\n",
       "    </tr>\n",
       "    <tr>\n",
       "      <th>4</th>\n",
       "      <td>1960</td>\n",
       "      <td>30-34</td>\n",
       "      <td>57569</td>\n",
       "    </tr>\n",
       "    <tr>\n",
       "      <th>5</th>\n",
       "      <td>1960</td>\n",
       "      <td>35-39</td>\n",
       "      <td>29540</td>\n",
       "    </tr>\n",
       "    <tr>\n",
       "      <th>6</th>\n",
       "      <td>1960</td>\n",
       "      <td>40-44</td>\n",
       "      <td>6865</td>\n",
       "    </tr>\n",
       "    <tr>\n",
       "      <th>7</th>\n",
       "      <td>1960</td>\n",
       "      <td>45 AND OVER</td>\n",
       "      <td>338</td>\n",
       "    </tr>\n",
       "  </tbody>\n",
       "</table>\n",
       "</div>"
      ],
      "text/plain": [
       "   Year          AGE   Count\n",
       "0  1960     UNDER 15     443\n",
       "1  1960        15-19   54010\n",
       "2  1960        20-24  128313\n",
       "3  1960        25-29   94704\n",
       "4  1960        30-34   57569\n",
       "5  1960        35-39   29540\n",
       "6  1960        40-44    6865\n",
       "7  1960  45 AND OVER     338"
      ]
     },
     "execution_count": 51,
     "metadata": {},
     "output_type": "execute_result"
    }
   ],
   "source": [
    "data = pd.read_csv('https://data.chhs.ca.gov/dataset/422ce2cc-9402-46c0-8d3c-bb8d6385597d/resource/255c79b2-461c-4c49-82a8-ba7c3b8adf77/download/births-by-mothers-age-group-1960current.csv')\n",
    "\n",
    "data.head(8)"
   ]
  },
  {
   "cell_type": "markdown",
   "metadata": {},
   "source": [
    "Since our data is already formatted, there is not much processing that needs to happen before it can be graphed. In fact, we can start preparing for graphing already. \n",
    "\n",
    "To do this, we need to generate a list of dates to use as our x-axis, in this case, years from 1960 to 2016 (range() doesn't include the last value, so we have to add 1). Our colors are imported from colorlover. These can be tweaked to a user's liking, but the sequential 'RdPu' scheme divided the data nicely and was easy on the eyes. We also store a list of the age ranges for the data that we are interested in. This is because the data does include some rows that we do not want to include because they are too small, such as births from mothers under 15 years old or over 45. In testing, these only cluttered the eventual plot, so we leave them out for now."
   ]
  },
  {
   "cell_type": "code",
   "execution_count": 161,
   "metadata": {},
   "outputs": [],
   "source": [
    "years = [x for x in range(1960, 2017)]\n",
    "colors = cl.scales['6']['seq']['RdPu']\n",
    "age_ranges = ['15-19', '20-24', '25-29', '30-34', '35-39', '40-44']"
   ]
  },
  {
   "cell_type": "markdown",
   "metadata": {},
   "source": [
    "## Visualization\n",
    "\n",
    "The majority of the project comes down to the visuals, which are all defined in the next cell. Plotly has a particular way of doing things, so with reference to their usage guide I was able to prepare the data for graphing. \n",
    "\n",
    "We want our data to be represented in a stacked bar graph, as the dataset we are using is split into different groups that change in size over time. To use this sort of graph, we need to prepare the bars that we are going to use. Each Bar has it's own x and y values, each represented in a list. Since we generated a list of years earlier, we use that as our x value. For y, we store a list of the number of births for every year. Since they are ordered in ascending order by year, we don't need to sort them before converting it directly to a list. From here, we can change some characteristics of our eventual graph, such as the outline color.\n",
    "\n",
    "This list comprehension generates the Bars necessary for each of the ages. Next, we need to define the actual layout. Here, we just set the various attributes of our graph, such as the title, legend, and x/y axis labels. We make sure to set the barmode to 'stack' in order to generate a stacked bar graph specifically."
   ]
  },
  {
   "cell_type": "code",
   "execution_count": 134,
   "metadata": {
    "scrolled": false
   },
   "outputs": [
    {
     "data": {
      "text/html": [
       "<iframe id=\"igraph\" scrolling=\"no\" style=\"border:none;\" seamless=\"seamless\" src=\"https://plot.ly/~simonbcodes/38.embed\" height=\"525px\" width=\"100%\"></iframe>"
      ],
      "text/plain": [
       "<plotly.tools.PlotlyDisplay object>"
      ]
     },
     "execution_count": 134,
     "metadata": {},
     "output_type": "execute_result"
    }
   ],
   "source": [
    "graph_data = [go.Bar(\n",
    "                x = years,\n",
    "                y = data[data['AGE'] == age]['Count'].tolist(),\n",
    "                name = age,\n",
    "                marker = dict(\n",
    "                    color = colors[age_ranges.index(age)],\n",
    "                    line = dict(\n",
    "                        color = 'rgba(58, 71, 80, 0.2)',\n",
    "                        width = 0.5)\n",
    "                )\n",
    "            )\n",
    "            for age in age_ranges] # create list of Bar graphs for each age range\n",
    "\n",
    "layout = go.Layout(\n",
    "    title = 'Number of California Births by Age of Mother',\n",
    "    xaxis = dict(\n",
    "        title = 'Year',\n",
    "        tickfont = dict(\n",
    "            size = 14,\n",
    "            color = 'rgb(107, 107, 107)'\n",
    "        )\n",
    "    ),\n",
    "    yaxis = dict(\n",
    "        title = 'Number of Births',\n",
    "        titlefont = dict(\n",
    "            size = 16,\n",
    "            color = 'rgb(107, 107, 107)'\n",
    "        ),\n",
    "        tickfont = dict(\n",
    "            size = 14,\n",
    "            color = 'rgb(107, 107, 107)'\n",
    "        )\n",
    "    ),\n",
    "    legend = dict(\n",
    "        x = 0,\n",
    "        y = 1.2,\n",
    "        bgcolor = 'rgba(255, 255, 255, 0)',\n",
    "        bordercolor = 'rgba(255, 255, 255, 0)'\n",
    "    ),\n",
    "    barmode = 'stack',\n",
    "    bargap = 0,\n",
    "    bargroupgap = 0\n",
    ")\n",
    "\n",
    "fig = go.Figure(data = graph_data, layout = layout)\n",
    "py.iplot(fig)"
   ]
  },
  {
   "cell_type": "markdown",
   "metadata": {},
   "source": [
    "Tada!\n",
    "\n",
    "Another possible visualization that can be done is to break down the counts of births by percentage instead of raw number. This might be helpful in revealing how the proportions of birth ages actuall changed over the years, and helps mitigate the effects of outside variables such as a rise in population.\n",
    "\n",
    "To do this, we use an almost identical graph, the only change being the y axis. To calculate the percentage of each age by year, we divide the number of births by age by the total births in that year. Again, we can use a list comprehension for this to keep our code shorter and cleaner."
   ]
  },
  {
   "cell_type": "code",
   "execution_count": 164,
   "metadata": {},
   "outputs": [
    {
     "data": {
      "text/html": [
       "<iframe id=\"igraph\" scrolling=\"no\" style=\"border:none;\" seamless=\"seamless\" src=\"https://plot.ly/~simonbcodes/52.embed\" height=\"525px\" width=\"100%\"></iframe>"
      ],
      "text/plain": [
       "<plotly.tools.PlotlyDisplay object>"
      ]
     },
     "execution_count": 164,
     "metadata": {},
     "output_type": "execute_result"
    }
   ],
   "source": [
    "graph_data = [go.Bar(\n",
    "                x = years,\n",
    "                y = [row['Count'] / data[data['Year'] == row['Year']]['Count'].sum() for index, row in data[data['AGE'] == age].iterrows()], \n",
    "                name = age,\n",
    "                marker = dict(\n",
    "                    color = colors[age_ranges.index(age)],\n",
    "                    line = dict(\n",
    "                        color = 'rgba(58, 71, 80, 0.2)',\n",
    "                        width = 0.5)\n",
    "                )\n",
    "            )\n",
    "            for age in age_ranges] # create list of Bar graphs for each age range\n",
    "\n",
    "layout = go.Layout(\n",
    "    title = 'Percentage of Births by Age of Mother',\n",
    "    xaxis = dict(\n",
    "        title = 'Year',\n",
    "        tickfont = dict(\n",
    "            size = 14,\n",
    "            color = 'rgb(107, 107, 107)'\n",
    "        )\n",
    "    ),\n",
    "    yaxis = dict(\n",
    "        title = 'Percentage of Births',\n",
    "        titlefont = dict(\n",
    "            size = 16,\n",
    "            color = 'rgb(107, 107, 107)'\n",
    "        ),\n",
    "        tickfont = dict(\n",
    "            size = 14,\n",
    "            color = 'rgb(107, 107, 107)'\n",
    "        ),\n",
    "        range = [0, 1]\n",
    "    ),\n",
    "    barmode = 'relative',\n",
    "    bargap = 0,\n",
    "    bargroupgap = 0\n",
    ")\n",
    "\n",
    "fig = go.Figure(data = graph_data, layout = layout)\n",
    "py.iplot(fig)"
   ]
  },
  {
   "cell_type": "markdown",
   "metadata": {},
   "source": [
    "This graph gives us a better sense of how the proportions of birth ages have changed over the years, as the dominant age group has definitely shifted from the 1960s until now. "
   ]
  },
  {
   "cell_type": "markdown",
   "metadata": {},
   "source": [
    "## References and Sources\n",
    "- [California Open Data: Births by Age of Mother](https://data.ca.gov/dataset/births-age-mother-1960-current)\n",
    "- [Plotly](https://plot.ly/#/)"
   ]
  }
 ],
 "metadata": {
  "kernelspec": {
   "display_name": "Python 3",
   "language": "python",
   "name": "python3"
  },
  "language_info": {
   "codemirror_mode": {
    "name": "ipython",
    "version": 3
   },
   "file_extension": ".py",
   "mimetype": "text/x-python",
   "name": "python",
   "nbconvert_exporter": "python",
   "pygments_lexer": "ipython3",
   "version": "3.5.2"
  }
 },
 "nbformat": 4,
 "nbformat_minor": 2
}
